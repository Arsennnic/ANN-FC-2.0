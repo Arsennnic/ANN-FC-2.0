{
 "cells": [
  {
   "cell_type": "code",
   "execution_count": 1,
   "metadata": {},
   "outputs": [],
   "source": [
    "import split_pm as sp\n",
    "import istab_pm as st"
   ]
  },
  {
   "cell_type": "code",
   "execution_count": null,
   "metadata": {
    "scrolled": true
   },
   "outputs": [
    {
     "name": "stdout",
     "output_type": "stream",
     "text": [
      "*** Number of training examples: 138498\n",
      "*** Number of testing examples: 12289\n",
      "*** Number of validation examples: 9329\n",
      "*** Training begins ...\n",
      "============ TRAINING PROCESS: 1 ============ \n",
      "    Epoch 00100: MGL: (0.0065 / 0.0065) - 1.0 = 0.0000\n",
      "    Epoch 00200: MGL: (0.0025 / 0.0025) - 1.0 = 0.0000\n"
     ]
    }
   ],
   "source": [
    "W_1010, b_1010, loss_1010 = sp.train(\"improved-STAB-data/PM-simplex-T450-simplex-SPLIT-PM.csv\",\n",
    "                            \"improved-STAB-data/PM-simplex-T450-test-simplex-SPLIT-PM.csv\",\n",
    "                            validation_data = \"improved-STAB-data/PM-simplex-T450-val-simplex-SPLIT-PM.csv\",\n",
    "                            hidden_layer = 2, hidden_cells = [10, 10], batch_size = 5000, \n",
    "                            GL = 0.05, min_epoch = 300,\n",
    "                            epoch = 4000, trans = None, train_number = 5, \n",
    "                            plot = True, plot_name = \"SP-T450-h1010\")"
   ]
  },
  {
   "cell_type": "code",
   "execution_count": null,
   "metadata": {
    "scrolled": false
   },
   "outputs": [],
   "source": [
    "Wst_1010, bst_1010, lossst_1010 = st.train(\"improved-STAB-data/PM-simplex-T450-simplex-PS-PM.csv\",\n",
    "                                           \"improved-STAB-data/PM-simplex-T450-test-simplex-PS-PM.csv\",\n",
    "                                           validation_data = \"improved-STAB-data/PM-simplex-T450-val-simplex-PS-PM.csv\",\n",
    "                                           hidden_layer = 2, hidden_cells = [10, 10], batch_size = 300, \n",
    "                                           GL = 0.05, min_epoch = 300, epoch = 4000, trans = None, train_number = 5, \n",
    "                                           plot = True, plot_name = \"ST-T450-h1010\")"
   ]
  },
  {
   "cell_type": "code",
   "execution_count": null,
   "metadata": {},
   "outputs": [],
   "source": [
    "W_10, b_10, loss_10 = sp.train(\"improved-STAB-data/PM-simplex-T450-simplex-SPLIT-PM.csv\",\n",
    "                            \"improved-STAB-data/PM-simplex-T450-test-simplex-SPLIT-PM.csv\",\n",
    "                            validation_data = \"improved-STAB-data/PM-simplex-T450-val-simplex-SPLIT-PM.csv\",\n",
    "                            hidden_layer = 1, hidden_cells = [10], batch_size = 5000, \n",
    "                            GL = 0.05, min_epoch = 300,\n",
    "                            epoch = 4000, trans = None, train_number = 5, \n",
    "                            plot = True, plot_name = \"SP-T450-h10\")"
   ]
  },
  {
   "cell_type": "code",
   "execution_count": null,
   "metadata": {},
   "outputs": [],
   "source": [
    "W_20, b_20, loss_20 = sp.train(\"improved-STAB-data/PM-simplex-T450-simplex-SPLIT-PM.csv\",\n",
    "                            \"improved-STAB-data/PM-simplex-T450-test-simplex-SPLIT-PM.csv\",\n",
    "                            validation_data = \"improved-STAB-data/PM-simplex-T450-val-simplex-SPLIT-PM.csv\",\n",
    "                            hidden_layer = 1, hidden_cells = [20], batch_size = 5000, \n",
    "                            GL = 0.05, min_epoch = 300,\n",
    "                            epoch = 4000, trans = None, train_number = 5, \n",
    "                            plot = True, plot_name = \"SP-T450-h20\")"
   ]
  },
  {
   "cell_type": "code",
   "execution_count": null,
   "metadata": {},
   "outputs": [],
   "source": [
    "Wst_10, bst_10, lossst_10 = st.train(\"improved-STAB-data/PM-simplex-T450-simplex-PS-PM.csv\",\n",
    "                                           \"improved-STAB-data/PM-simplex-T450-test-simplex-PS-PM.csv\",\n",
    "                                           validation_data = \"improved-STAB-data/PM-simplex-T450-val-simplex-PS-PM.csv\",\n",
    "                                           hidden_layer = 1, hidden_cells = [10], batch_size = 300, \n",
    "                                           GL = 0.05, min_epoch = 300, epoch = 4000, trans = None, train_number = 5, \n",
    "                                           plot = True, plot_name = \"ST-T450-h10\")"
   ]
  },
  {
   "cell_type": "code",
   "execution_count": null,
   "metadata": {},
   "outputs": [],
   "source": [
    "Wst_20, bst_20, lossst_20 = st.train(\"improved-STAB-data/PM-simplex-T450-simplex-PS-PM.csv\",\n",
    "                                           \"improved-STAB-data/PM-simplex-T450-test-simplex-PS-PM.csv\",\n",
    "                                           validation_data = \"improved-STAB-data/PM-simplex-T450-val-simplex-PS-PM.csv\",\n",
    "                                           hidden_layer = 1, hidden_cells = [20], batch_size = 300, \n",
    "                                           GL = 0.05, min_epoch = 300, epoch = 4000, trans = None, train_number = 5, \n",
    "                                           plot = True, plot_name = \"ST-T450-h20\")"
   ]
  },
  {
   "cell_type": "code",
   "execution_count": null,
   "metadata": {},
   "outputs": [],
   "source": [
    "W_1010_log, b_1010_log, loss_1010_log = sp.train(\"improved-STAB-data/PM-simplex-T450-simplex-SPLIT-PM.csv\",\n",
    "                            \"improved-STAB-data/PM-simplex-T450-test-simplex-SPLIT-PM.csv\",\n",
    "                            validation_data = \"improved-STAB-data/PM-simplex-T450-val-simplex-SPLIT-PM.csv\",\n",
    "                            hidden_layer = 2, hidden_cells = [10, 10], batch_size = 5000, \n",
    "                            GL = 0.05, min_epoch = 300,\n",
    "                            epoch = 4000, trans = 'log', train_number = 5, \n",
    "                            plot = True, plot_name = \"SP-T450-h1010-log\")"
   ]
  },
  {
   "cell_type": "code",
   "execution_count": null,
   "metadata": {},
   "outputs": [],
   "source": [
    "W_1010_new, b_1010_new, loss_1010_new = sp.train(\"improved-STAB-data/PM-simplex-T450-simplex-SPLIT-PM.csv\",\n",
    "                            \"improved-STAB-data/PM-simplex-T450-test-simplex-SPLIT-PM.csv\",\n",
    "                            validation_data = \"improved-STAB-data/PM-simplex-T450-val-simplex-SPLIT-PM.csv\",\n",
    "                            hidden_layer = 2, hidden_cells = [10, 10], batch_size = 5000, \n",
    "                            GL = 0.05, min_epoch = 300,\n",
    "                            epoch = 4000, trans = 'new', train_number = 5, \n",
    "                            plot = True, plot_name = \"SP-T450-h1010-new\")"
   ]
  }
 ],
 "metadata": {
  "kernelspec": {
   "display_name": "tensorflow",
   "language": "python",
   "name": "tensorflow"
  },
  "language_info": {
   "codemirror_mode": {
    "name": "ipython",
    "version": 2
   },
   "file_extension": ".py",
   "mimetype": "text/x-python",
   "name": "python",
   "nbconvert_exporter": "python",
   "pygments_lexer": "ipython2",
   "version": "2.7.15"
  }
 },
 "nbformat": 4,
 "nbformat_minor": 2
}
