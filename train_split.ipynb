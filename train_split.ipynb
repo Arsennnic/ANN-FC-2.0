{
 "cells": [
  {
   "cell_type": "code",
   "execution_count": 1,
   "metadata": {},
   "outputs": [],
   "source": [
    "import split_pm as sp\n",
    "import istab_pm as st"
   ]
  },
  {
   "cell_type": "code",
   "execution_count": null,
   "metadata": {
    "scrolled": true
   },
   "outputs": [],
   "source": [
    "W, b = sp.train(\"improved-STAB-data/PM-simplex-T450-simplex-SPLIT-PM.csv\",\n",
    "                \"improved-STAB-data/PM-simplex-T450-test-simplex-SPLIT-PM.csv\",\n",
    "                hidden_cells = 40, batch_size = 1000, GL = 0.1,\n",
    "                epoch = 5000, trans = None)"
   ]
  },
  {
   "cell_type": "code",
   "execution_count": null,
   "metadata": {},
   "outputs": [],
   "source": [
    "W, b = sp.train(\"improved-STAB-data/PM-simplex-T450-simplex-SPLIT-PM.csv\",\n",
    "                \"improved-STAB-data/PM-simplex-T450-test-simplex-SPLIT-PM.csv\",\n",
    "                hidden_cells = 40, batch_size = 1000, GL = 0.1,\n",
    "                epoch = 5000, trans = 'log')"
   ]
  },
  {
   "cell_type": "code",
   "execution_count": null,
   "metadata": {},
   "outputs": [
    {
     "name": "stdout",
     "output_type": "stream",
     "text": [
      "Read training data:\n",
      "(4, 138498, [0.02, 0.94, 0.01, 0.97, 0.01, 0.97, 4.111254, 284.732], [1.269904e-05, 0.9998817, 1.000001, 59.15546, 0.2610428, 2.462742, 0.04767092, 0.9999977])\n",
      "Done\n",
      "Read testing data:\n",
      "(4, 12289)\n",
      "Done\n",
      "Epoch 00000: Generalization loss: (0.2005 / 0.2005) - 1.0 = 0.0000\n",
      "Epoch 00100: Generalization loss: (0.0043 / 0.0035) - 1.0 = 0.2312\n",
      "Epoch 00200: Generalization loss: (0.0032 / 0.0032) - 1.0 = 0.0000\n",
      "Epoch 00300: Generalization loss: (0.0030 / 0.0028) - 1.0 = 0.0494\n",
      "Epoch 00400: Generalization loss: (0.0028 / 0.0027) - 1.0 = 0.0249\n",
      "Epoch 00500: Generalization loss: (0.0026 / 0.0026) - 1.0 = 0.0068\n",
      "Epoch 00600: Generalization loss: (0.0028 / 0.0026) - 1.0 = 0.0661\n",
      "Epoch 00700: Generalization loss: (0.0029 / 0.0026) - 1.0 = 0.1016\n",
      "Epoch 00800: Generalization loss: (0.0027 / 0.0026) - 1.0 = 0.0445\n",
      "Epoch 00900: Generalization loss: (0.0027 / 0.0025) - 1.0 = 0.0679\n",
      "Epoch 01000: Generalization loss: (0.0024 / 0.0024) - 1.0 = 0.0000\n",
      "Epoch 01100: Generalization loss: (0.0023 / 0.0022) - 1.0 = 0.0480\n",
      "Epoch 01200: Generalization loss: (0.0022 / 0.0021) - 1.0 = 0.0694\n",
      "Epoch 01300: Generalization loss: (0.0021 / 0.0020) - 1.0 = 0.0765\n",
      "Epoch 01400: Generalization loss: (0.0020 / 0.0019) - 1.0 = 0.0607\n"
     ]
    }
   ],
   "source": [
    "W, b = sp.train(\"improved-STAB-data/PM-simplex-T450-simplex-SPLIT-PM.csv\",\n",
    "                \"improved-STAB-data/PM-simplex-T450-test-simplex-SPLIT-PM.csv\",\n",
    "                hidden_cells = 40, batch_size = 1000, GL = 0.1,\n",
    "                epoch = 5000, trans = 'new')"
   ]
  },
  {
   "cell_type": "code",
   "execution_count": null,
   "metadata": {
    "scrolled": true
   },
   "outputs": [],
   "source": [
    "W, b = st.train(\"improved-STAB-data/PM-simplex-T450-simplex-PS-PM.csv\",\n",
    "                \"improved-STAB-data/PM-simplex-T450-test-simplex-PS-PM.csv\",\n",
    "                hidden_cells = 30, batch_size = 128, GL = 0.1,\n",
    "                epoch = 5000)"
   ]
  },
  {
   "cell_type": "code",
   "execution_count": null,
   "metadata": {},
   "outputs": [],
   "source": []
  }
 ],
 "metadata": {
  "kernelspec": {
   "display_name": "tensorflow",
   "language": "python",
   "name": "tensorflow"
  },
  "language_info": {
   "codemirror_mode": {
    "name": "ipython",
    "version": 2
   },
   "file_extension": ".py",
   "mimetype": "text/x-python",
   "name": "python",
   "nbconvert_exporter": "python",
   "pygments_lexer": "ipython2",
   "version": "2.7.15"
  }
 },
 "nbformat": 4,
 "nbformat_minor": 2
}
